{
 "cells": [
  {
   "cell_type": "markdown",
   "metadata": {},
   "source": [
    "## Big Question\n",
    "\n",
    "My question is which model between logistic regression and perceptron would yield better results? I will be comparing the results of their accuracy based on the testing data from each of them. Using the IMDB movie data I will be comparing the sentiment of the data recorded and the predicted data from the model."
   ]
  },
  {
   "cell_type": "markdown",
   "metadata": {},
   "source": [
    "## Data\n",
    "\n",
    "    Using the IMDB Movies file, movies.csv, which is composed of text data and binary data on sentiment."
   ]
  },
  {
   "cell_type": "markdown",
   "metadata": {},
   "source": [
    "## Data preprocessing"
   ]
  },
  {
   "cell_type": "code",
   "execution_count": 73,
   "metadata": {},
   "outputs": [
    {
     "data": {
      "text/html": [
       "<div>\n",
       "<style scoped>\n",
       "    .dataframe tbody tr th:only-of-type {\n",
       "        vertical-align: middle;\n",
       "    }\n",
       "\n",
       "    .dataframe tbody tr th {\n",
       "        vertical-align: top;\n",
       "    }\n",
       "\n",
       "    .dataframe thead th {\n",
       "        text-align: right;\n",
       "    }\n",
       "</style>\n",
       "<table border=\"1\" class=\"dataframe\">\n",
       "  <thead>\n",
       "    <tr style=\"text-align: right;\">\n",
       "      <th></th>\n",
       "      <th>review</th>\n",
       "      <th>sentiment</th>\n",
       "    </tr>\n",
       "  </thead>\n",
       "  <tbody>\n",
       "    <tr>\n",
       "      <th>0</th>\n",
       "      <td>One of the other reviewers has mentioned that ...</td>\n",
       "      <td>1</td>\n",
       "    </tr>\n",
       "    <tr>\n",
       "      <th>1</th>\n",
       "      <td>A wonderful little production. &lt;br /&gt;&lt;br /&gt;The...</td>\n",
       "      <td>1</td>\n",
       "    </tr>\n",
       "    <tr>\n",
       "      <th>2</th>\n",
       "      <td>I thought this was a wonderful way to spend ti...</td>\n",
       "      <td>1</td>\n",
       "    </tr>\n",
       "    <tr>\n",
       "      <th>3</th>\n",
       "      <td>Basically there's a family where a little boy ...</td>\n",
       "      <td>0</td>\n",
       "    </tr>\n",
       "    <tr>\n",
       "      <th>4</th>\n",
       "      <td>Petter Mattei's \"Love in the Time of Money\" is...</td>\n",
       "      <td>1</td>\n",
       "    </tr>\n",
       "    <tr>\n",
       "      <th>...</th>\n",
       "      <td>...</td>\n",
       "      <td>...</td>\n",
       "    </tr>\n",
       "    <tr>\n",
       "      <th>1194</th>\n",
       "      <td>I was so surprised when I saw this film so muc...</td>\n",
       "      <td>1</td>\n",
       "    </tr>\n",
       "    <tr>\n",
       "      <th>1195</th>\n",
       "      <td>I was greatly disappointed by the quality of t...</td>\n",
       "      <td>0</td>\n",
       "    </tr>\n",
       "    <tr>\n",
       "      <th>1196</th>\n",
       "      <td>I've tried to reconcile why so many bad review...</td>\n",
       "      <td>1</td>\n",
       "    </tr>\n",
       "    <tr>\n",
       "      <th>1197</th>\n",
       "      <td>WARNING: SPOILER,SPOILER,SPOILER!!!!&lt;br /&gt;&lt;br ...</td>\n",
       "      <td>1</td>\n",
       "    </tr>\n",
       "    <tr>\n",
       "      <th>1198</th>\n",
       "      <td>This is a great film with an amazing cast. Cri...</td>\n",
       "      <td>1</td>\n",
       "    </tr>\n",
       "  </tbody>\n",
       "</table>\n",
       "<p>1199 rows × 2 columns</p>\n",
       "</div>"
      ],
      "text/plain": [
       "                                                 review  sentiment\n",
       "0     One of the other reviewers has mentioned that ...          1\n",
       "1     A wonderful little production. <br /><br />The...          1\n",
       "2     I thought this was a wonderful way to spend ti...          1\n",
       "3     Basically there's a family where a little boy ...          0\n",
       "4     Petter Mattei's \"Love in the Time of Money\" is...          1\n",
       "...                                                 ...        ...\n",
       "1194  I was so surprised when I saw this film so muc...          1\n",
       "1195  I was greatly disappointed by the quality of t...          0\n",
       "1196  I've tried to reconcile why so many bad review...          1\n",
       "1197  WARNING: SPOILER,SPOILER,SPOILER!!!!<br /><br ...          1\n",
       "1198  This is a great film with an amazing cast. Cri...          1\n",
       "\n",
       "[1199 rows x 2 columns]"
      ]
     },
     "execution_count": 73,
     "metadata": {},
     "output_type": "execute_result"
    }
   ],
   "source": [
    "import pandas as pd\n",
    "import numpy as np\n",
    "import matplotlib.pyplot as plt\n",
    "from sklearn.feature_extraction.text import CountVectorizer\n",
    "\n",
    "# reading csv, getting testing and training data.\n",
    "df = pd.read_csv('movies.csv', header = 0, encoding = 'UTF-8')\n",
    "df_train = df.iloc[0:250,0:] # 80% training data\n",
    "df_test = df.iloc[1001:1200,0:] # 20% test data\n",
    "df\n",
    "# traing data, text and binary value\n",
    "Y_train = df_train[\"sentiment\"].values\n",
    "text_train = df_train[\"review\"].values\n",
    "\n",
    "# testing data, text and binary value\n",
    "Y_test = df_test[\"sentiment\"].values\n",
    "text_test = df_test[\"review\"].values\n",
    "\n",
    "df"
   ]
  },
  {
   "cell_type": "markdown",
   "metadata": {},
   "source": [
    "## Model selection and tuning\n",
    "\n",
    "_Using this cell, please write a short, clear paragraph explaining how you selected and tuned your model for the project. You must answer the following questions in this cell (1) Why is your model an appropriate choice for your data? (2) What hyperparameters does your model have and how did you select them? (3) What features did you choose and why?_\n",
    "\n",
    "You must, at minimum:\n",
    "1. Engineer one feature\n",
    "2. Tune one hyperparameter\n",
    "3. Make a plot or table examining performance of your model under different parameter settings\n",
    "\n",
    "    Logistic regression is a good model to use because it works great for binary classification. Perceptron is an alternative model that is being tested. My model has the hyperparameters loss, because i needed it to specify logistic regression. Max_iter to control the iterations, tol is used for stopping criteria, alpha is used as a constant to manipulate the results, and random state was just used to randomize the data. I chose word_pair_features to compare how the words in the text correlate to the sentiment value. I am trying to see how the classifier would preform with the pairs."
   ]
  },
  {
   "cell_type": "code",
   "execution_count": 74,
   "metadata": {},
   "outputs": [],
   "source": [
    "## Feature engineering. Please include your code for feature engineering in this cell. \n",
    "from collections import Counter\n",
    "\n",
    "# returns pairs of a sentence\n",
    "def word_pair_features(text):\n",
    "    import itertools\n",
    "    words = text.lower().split()\n",
    "    pairs = list(itertools.combinations(words, 2))\n",
    "    return Counter(pairs)"
   ]
  },
  {
   "cell_type": "code",
   "execution_count": 75,
   "metadata": {},
   "outputs": [
    {
     "name": "stdout",
     "output_type": "stream",
     "text": [
      "Training accuracy: 1.000000\n",
      "Testing accuracy: 0.671717\n"
     ]
    }
   ],
   "source": [
    "## Code for model selection and tuning.  Please include your code for model selection and tuning in this cell\n",
    "from sklearn.linear_model import SGDClassifier\n",
    "from sklearn.metrics import accuracy_score, precision_score\n",
    "from sklearn.feature_selection import SelectPercentile, chi2\n",
    "from sklearn.feature_extraction import DictVectorizer\n",
    "from sklearn.linear_model import LogisticRegression\n",
    "from sklearn.model_selection import GridSearchCV, cross_val_predict\n",
    "\n",
    "# tuning parameters\n",
    "vect = DictVectorizer()\n",
    "X_train = vect.fit_transform(word_pair_features(d) for d in text_train)\n",
    "X_test = vect.transform(word_pair_features(d) for d in text_test)\n",
    "\n",
    "\n",
    "# Testing eta0 (the initial learning rate) default is 0.0, 10.0, 100.0, 1000.0\n",
    "# max iter = iterations in the loop\n",
    "# tol is the stopping criteria (difference between current and previous loss without stopping)\n",
    "# radnom state = is the random number generator\n",
    "classifier = SGDClassifier(loss = 'log', max_iter = 1000, tol = 1.0e-4, random_state = 123, eta0 = 10)\n",
    "classifier.fit(X_train, Y_train)\n",
    "\n",
    "print(\"Training accuracy: %0.6f\" % accuracy_score(Y_train, classifier.predict(X_train)))\n",
    "print(\"Testing accuracy: %0.6f\" % accuracy_score(Y_test, classifier.predict(X_test)))"
   ]
  },
  {
   "cell_type": "code",
   "execution_count": 78,
   "metadata": {},
   "outputs": [
    {
     "data": {
      "image/png": "[encoded data removed]",
      "text/plain": [
       "<Figure size 432x288 with 1 Axes>"
      ]
     },
     "metadata": {
      "needs_background": "light"
     },
     "output_type": "display_data"
    }
   ],
   "source": [
    "## Plot or table \n",
    "training_accuracy = [0,0,0,0,0]\n",
    "testing_accuracy = [0,0,0,0,0]\n",
    "\n",
    "alpha_Parameters = [0.00001, 0.0001, 0.001, 0.01, 0.1]\n",
    "\n",
    "c1 = SGDClassifier(loss = 'log', max_iter = 1000, tol = 1.0e-4, alpha = 0.00001, random_state = 123, eta0 = 100)\n",
    "c1.fit(X_train, Y_train)\n",
    "\n",
    "c2 = SGDClassifier(loss = 'log', max_iter = 1000, tol = 1.0e-4, alpha = 0.0001, random_state = 123, eta0 = 100)\n",
    "c2.fit(X_train, Y_train)\n",
    "\n",
    "c3 = SGDClassifier(loss = 'log', max_iter = 1000, tol = 1.0e-4, alpha = 0.001, random_state = 123, eta0 = 100)\n",
    "c3.fit(X_train, Y_train)\n",
    "\n",
    "c4 = SGDClassifier(loss = 'log', max_iter = 1000, tol = 1.0e-4, alpha = 0.01, random_state = 123, eta0 = 100)\n",
    "c4.fit(X_train, Y_train)\n",
    "\n",
    "c5 = SGDClassifier(loss = 'log', max_iter = 1000, tol = 1.0e-4, alpha = 0.1, random_state = 123, eta0 = 100)\n",
    "c5.fit(X_train, Y_train)\n",
    "\n",
    "\n",
    "testing_accuracy[0] = accuracy_score(Y_test, c1.predict(X_test))\n",
    "testing_accuracy[1] = accuracy_score(Y_test, c2.predict(X_test))\n",
    "testing_accuracy[2] = accuracy_score(Y_test, c3.predict(X_test))\n",
    "testing_accuracy[3] = accuracy_score(Y_test, c4.predict(X_test))\n",
    "testing_accuracy[4] = accuracy_score(Y_test, c5.predict(X_test))\n",
    "\n",
    "training_accuracy[0] = accuracy_score(Y_train, c5.predict(X_train))\n",
    "training_accuracy[1] = accuracy_score(Y_train, c5.predict(X_train))\n",
    "training_accuracy[2] = accuracy_score(Y_train, c5.predict(X_train))\n",
    "training_accuracy[3] = accuracy_score(Y_train, c5.predict(X_train))\n",
    "training_accuracy[4] = accuracy_score(Y_train, c5.predict(X_train))\n",
    "\n",
    "\n",
    "plt.subplot(111)\n",
    "plt.semilogx(my_Parameters, training_accuracy)\n",
    "plt.grid(True)\n",
    "\n",
    "plt.title(\"Accuracy based on alpha\")\n",
    "# plt.plot(my_Parameters, training_accuracy, label = \"Training Accuracy\", marker = \"x\")\n",
    "plt.plot(my_Parameters, testing_accuracy, label = \"Testing Accuracy\", marker = \"x\", color = \"green\")\n",
    "\n",
    "plt.legend()\n",
    "plt.xlabel(\"alpha\")\n",
    "plt.ylabel(\"Logistic Regression Accuracy\")\n",
    "plt.show()\n",
    "# Include a plot or table explaining how you selected and tuned your model. You must complete this step in the project."
   ]
  },
  {
   "cell_type": "markdown",
   "metadata": {},
   "source": [
    "## Results\n",
    "\n",
    "_Using this cell, please write a short, clear paragraph explaining your results. In this class, we have mostly focused on accuracy. It is OK to measure your results in another quantitative way (e.g. precision or likelihood). Whatever you pick, make sure you are clear on what you are doing, and make sure you explain why your measurement of success makes sense._\n",
    "\n",
    "Your answer here"
   ]
  },
  {
   "cell_type": "code",
   "execution_count": 79,
   "metadata": {},
   "outputs": [
    {
     "name": "stdout",
     "output_type": "stream",
     "text": [
      "Training accuracy: 1.000000\n",
      "Testing accuracy: 0.666667\n"
     ]
    }
   ],
   "source": [
    "# radnom state = is the random number generator\n",
    "classifier = SGDClassifier(loss = 'perceptron', max_iter = 1000, tol = 1.0e-4, random_state = 123, eta0 = 10)\n",
    "classifier.fit(X_train, Y_train)\n",
    "\n",
    "print(\"Training accuracy: %0.6f\" % accuracy_score(Y_train, classifier.predict(X_train)))\n",
    "print(\"Testing accuracy: %0.6f\" % accuracy_score(Y_test, classifier.predict(X_test)))"
   ]
  },
  {
   "cell_type": "code",
   "execution_count": 84,
   "metadata": {},
   "outputs": [
    {
     "data": {
      "image/png": "[encoded data removed]",
      "text/plain": [
       "<Figure size 432x288 with 1 Axes>"
      ]
     },
     "metadata": {
      "needs_background": "light"
     },
     "output_type": "display_data"
    }
   ],
   "source": [
    "## Code \n",
    "## Plot or table \n",
    "training_accuracy = [0,0,0,0,0]\n",
    "testing_accuracy = [0,0,0,0,0]\n",
    "\n",
    "alpha_Parameters = [0.001, 0.01, 0.1, 1.0, 10.0]\n",
    "\n",
    "c1 = SGDClassifier(loss = 'perceptron', max_iter = 1000, tol = 1.0e-4, alpha = 0.01, random_state = 123, eta0 = 100)\n",
    "c1.fit(X_train, Y_train)\n",
    "\n",
    "c2 = SGDClassifier(loss = 'perceptron', max_iter = 1000, tol = 1.0e-4, alpha = 0.1, random_state = 123, eta0 = 100)\n",
    "c2.fit(X_train, Y_train)\n",
    "\n",
    "c3 = SGDClassifier(loss = 'perceptron', max_iter = 1000, tol = 1.0e-4, alpha = 1.0, random_state = 123, eta0 = 100)\n",
    "c3.fit(X_train, Y_train)\n",
    "\n",
    "c4 = SGDClassifier(loss = 'perceptron', max_iter = 1000, tol = 1.0e-4, alpha = 10.0, random_state = 123, eta0 = 100)\n",
    "c4.fit(X_train, Y_train)\n",
    "\n",
    "c5 = SGDClassifier(loss = 'perceptron', max_iter = 1000, tol = 1.0e-4, alpha = 100.0, random_state = 123, eta0 = 100)\n",
    "c5.fit(X_train, Y_train)\n",
    "\n",
    "\n",
    "testing_accuracy[0] = accuracy_score(Y_test, c1.predict(X_test))\n",
    "testing_accuracy[1] = accuracy_score(Y_test, c2.predict(X_test))\n",
    "testing_accuracy[2] = accuracy_score(Y_test, c3.predict(X_test))\n",
    "testing_accuracy[3] = accuracy_score(Y_test, c4.predict(X_test))\n",
    "testing_accuracy[4] = accuracy_score(Y_test, c5.predict(X_test))\n",
    "\n",
    "training_accuracy[0] = accuracy_score(Y_train, c5.predict(X_train))\n",
    "training_accuracy[1] = accuracy_score(Y_train, c5.predict(X_train))\n",
    "training_accuracy[2] = accuracy_score(Y_train, c5.predict(X_train))\n",
    "training_accuracy[3] = accuracy_score(Y_train, c5.predict(X_train))\n",
    "training_accuracy[4] = accuracy_score(Y_train, c5.predict(X_train))\n",
    "\n",
    "\n",
    "plt.subplot(111)\n",
    "plt.semilogx(my_Parameters, training_accuracy)\n",
    "plt.grid(True)\n",
    "\n",
    "plt.title(\"Accuracy based on alpha\")\n",
    "# plt.plot(my_Parameters, training_accuracy, label = \"Training Accuracy\", marker = \"x\")\n",
    "plt.plot(my_Parameters, testing_accuracy, label = \"Testing Accuracy\", marker = \"x\", color = \"green\")\n",
    "\n",
    "plt.legend()\n",
    "plt.xlabel(\"alpha\")\n",
    "plt.ylabel(\"Perceptron Accuracy\")\n",
    "plt.show()\n",
    "# Include a plot or table explaining how you selected and tuned your model. You must complete this step in the project.\n",
    "    \n",
    "# Include code showing how you arrived at your results. You must complete this step in the project."
   ]
  },
  {
   "cell_type": "markdown",
   "metadata": {},
   "source": [
    "    In my results I attempted to use perceptron and logistic regression models to determine which of the two gives better results. I discovered that because the logistic regression is more fitted to binary classification modeling, it yielded better results than the perceptron. The perceptron would be better fitted to linear classification. The logistic regression model performed the best when alpha was less than 0.001 and decreased as alpha increased."
   ]
  },
  {
   "cell_type": "markdown",
   "metadata": {},
   "source": [
    "## Error analysis\n",
    "\n",
    "_Using this cell, please write a short, clear paragraph explaining what errors your model seems to be making, and offer a brief explanation based on your code below._ \n",
    "\n",
    "You must:\n",
    "1. Perform some error analysis technique, such as making a confusion matrix or examining model mistakes."
   ]
  },
  {
   "cell_type": "code",
   "execution_count": 83,
   "metadata": {},
   "outputs": [
    {
     "name": "stdout",
     "output_type": "stream",
     "text": [
      "Training accuracy: 1.000000\n",
      "Testing accuracy: 0.606061\n"
     ]
    },
    {
     "data": {
      "image/png": "[encoded data removed]",
      "text/plain": [
       "<Figure size 432x288 with 2 Axes>"
      ]
     },
     "metadata": {
      "needs_background": "light"
     },
     "output_type": "display_data"
    }
   ],
   "source": [
    "## Error analysis\n",
    "from sklearn.metrics import confusion_matrix\n",
    "from sklearn.metrics import classification_report \n",
    "from sklearn.metrics import plot_confusion_matrix \n",
    "import seaborn\n",
    "\n",
    "classifier = SGDClassifier(loss = 'log', max_iter = 100, tol = 1.0e-4,alpha= .01, random_state = 123, eta0 = 10)\n",
    "classifier.fit(X_train, Y_train)\n",
    "\n",
    "print(\"Training accuracy: %0.6f\" % accuracy_score(Y_train, classifier.predict(X_train)))\n",
    "print(\"Testing accuracy: %0.6f\" % accuracy_score(Y_test, classifier.predict(X_test)))\n",
    "\n",
    "prediction = classifier.fit(X_train, Y_train).predict(X_test)\n",
    "\n",
    "\n",
    "confusionMatrix = confusion_matrix(Y_test,prediction)\n",
    "confusionMatrix\n",
    "\n",
    "plot = plt.subplot()\n",
    "seaborn.heatmap(confusionMatrix, annot = True, fmt = 'g', ax = plot);\n",
    "\n",
    "plot.set_xlabel('Predicted labels');plot.set_ylabel('True labels'); \n",
    "plot.set_title('Confusion Matrix'); \n",
    "plot.xaxis.set_ticklabels(['sentiment=0', 'sentiment=1']); plot.yaxis.set_ticklabels(['sentiment=0', 'sentiment=1']);\n",
    "plt.show()\n",
    "# Include code for error analysis here, to justify your conclusions. \n",
    "# You might make a confusion matrix, sample misclassifier data, analyze learned weights, or use any other method \n",
    "# discussed in class, or which makes sense for your model"
   ]
  },
  {
   "cell_type": "markdown",
   "metadata": {},
   "source": [
    "## Summary and conclusion\n",
    "\n",
    "_Using this cell, please write a short, clear paragraph describing how your results answer or do not answer your question. What are the implications of your findings? What new questions arise from your work?_\n",
    "\n",
    "    My classifier is best at classifying the positive sentiments versus the negative ones. However, it does have a 40% error rate and could perform better. Questions that arise are why the classifier is better at classifying positive sentiments over negative ones. The implications of my findings show that logistic regression performs better than perceptron and that when alpha is under 0.001 it yields the best results. According to IMDB data, positive movies are more easily classified than movies with no sentiment. IMDB could use this information on their website by classifying the correct movies. The easiest way to increase the accuracy is by increasing the instances in the data. I used a sample of 250 and 200 to be able to process. When done at 1200 and 200, the results were slightly higher. "
   ]
  }
 ],
 "metadata": {
  "kernelspec": {
   "display_name": "Python 3 (ipykernel)",
   "language": "python",
   "name": "python3"
  },
  "language_info": {
   "codemirror_mode": {
    "name": "ipython",
    "version": 3
   },
   "file_extension": ".py",
   "mimetype": "text/x-python",
   "name": "python",
   "nbconvert_exporter": "python",
   "pygments_lexer": "ipython3",
   "version": "3.8.10"
  }
 },
 "nbformat": 4,
 "nbformat_minor": 4
}
