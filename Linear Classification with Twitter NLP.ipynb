{
 "cells": [
  {
   "cell_type": "markdown",
   "metadata": {},
   "source": [
    "## Linear Classification with Twitter NLP"
   ]
  },
  {
   "cell_type": "markdown",
   "metadata": {},
   "source": [
    "## Background Overview\n",
    "\n",
    "News agencies, governments and corporations sometimes track social media during natural disasters to try to monitor unfolding events. But because no single person or group of people can read all available Twitter data, organizations may turn to natural language processing methods to try and understand what is happening as disasters unfold. \n",
    "\n",
    "While this approach is powerful, inferring events from NLP can be tricky. For instance, say a person [tweets](https://twitter.com/AnyOtherAnnaK/status/629195955506708480) that \"LOOK AT THE SKY LAST NIGHT IT WAS ABLAZE.\" This tweet includes the word \"ablaze\", which may signal to a computer that there is an unfolding disaster. However, in this particular case, the person is speaking metaphorically. A simple computer system using keywords (e.g. ablaze) might be fooled into thinking the tweet is reporting an actual fire.\n",
    "\n",
    "With this data I am predicting if a given tweet actually refers to a natural disaster. This exercise is motivated by real-world disaster monitoring systems, and uses a supervised binary classification and natural language processing.\n",
    "\n",
    "__Note__: This dataset originally comes from [Kaggle](https://www.kaggle.com/c/nlp-getting-started/overview). But it has been modified for this problem set. Information about the data from this problem set that you find on Kaggle will almost certainly be wrong.\n"
   ]
  },
  {
   "cell_type": "markdown",
   "metadata": {},
   "source": [
    "## Explaining the problems and models\n",
    "Experimenting with perceptron and logistic regression in `sklearn`. Using `SGDClassifier` ([sklearn documentation](http://scikit-learn.org/stable/modules/generated/sklearn.linear_model.SGDClassifier.html)),  implements stochastic gradient descent (SGD) for a variety of loss functions, including both perceptron and logistic regression, allowing them to easily move between the two classifiers.\n",
    "\n",
    "The code below loads the datasets. There are two data collections: the \"training\" data, which contains the tweets that will be used for training the classifiers, and the \"testing\" data, which are tweets that you will use to measure the classifier accuracy. The test tweets are instances that the classifier has never seen before. They represent a good way to see how the classifier will behave on data it hasn't seen before. However, the labels of the test tweets are known and can measure the accuracy.\n",
    "\n",
    "I included \"bag of words\" features, which are commonly used when doing classification with text. Each feature is a word, and the value of a feature for a particular tweet is number of times the word appears in the tweet (with value $0$ if the word does not appear in the tweet).\n",
    "\n",
    "A note on the labels: **If `Y_train` or `Y_test` are 1 this means the tweet refers to a real disaster; if the values are 0, it means the tweet does not refer to a real disaster** "
   ]
  },
  {
   "cell_type": "code",
   "execution_count": 3,
   "metadata": {
    "scrolled": false
   },
   "outputs": [
    {
     "data": {
      "text/html": [
       "<div>\n",
       "<style scoped>\n",
       "    .dataframe tbody tr th:only-of-type {\n",
       "        vertical-align: middle;\n",
       "    }\n",
       "\n",
       "    .dataframe tbody tr th {\n",
       "        vertical-align: top;\n",
       "    }\n",
       "\n",
       "    .dataframe thead th {\n",
       "        text-align: right;\n",
       "    }\n",
       "</style>\n",
       "<table border=\"1\" class=\"dataframe\">\n",
       "  <thead>\n",
       "    <tr style=\"text-align: right;\">\n",
       "      <th></th>\n",
       "      <th>Unnamed: 0</th>\n",
       "      <th>id</th>\n",
       "      <th>keyword</th>\n",
       "      <th>location</th>\n",
       "      <th>text</th>\n",
       "      <th>target</th>\n",
       "    </tr>\n",
       "  </thead>\n",
       "  <tbody>\n",
       "    <tr>\n",
       "      <th>0</th>\n",
       "      <td>1</td>\n",
       "      <td>4</td>\n",
       "      <td>NaN</td>\n",
       "      <td>NaN</td>\n",
       "      <td>Forest fire near La Ronge Sask. Canada</td>\n",
       "      <td>1</td>\n",
       "    </tr>\n",
       "    <tr>\n",
       "      <th>1</th>\n",
       "      <td>7</td>\n",
       "      <td>13</td>\n",
       "      <td>NaN</td>\n",
       "      <td>NaN</td>\n",
       "      <td>I'm on top of the hill and I can see a fire in...</td>\n",
       "      <td>1</td>\n",
       "    </tr>\n",
       "    <tr>\n",
       "      <th>2</th>\n",
       "      <td>16</td>\n",
       "      <td>24</td>\n",
       "      <td>NaN</td>\n",
       "      <td>NaN</td>\n",
       "      <td>I love fruits</td>\n",
       "      <td>0</td>\n",
       "    </tr>\n",
       "    <tr>\n",
       "      <th>3</th>\n",
       "      <td>18</td>\n",
       "      <td>26</td>\n",
       "      <td>NaN</td>\n",
       "      <td>NaN</td>\n",
       "      <td>My car is so fast</td>\n",
       "      <td>0</td>\n",
       "    </tr>\n",
       "    <tr>\n",
       "      <th>4</th>\n",
       "      <td>26</td>\n",
       "      <td>38</td>\n",
       "      <td>NaN</td>\n",
       "      <td>NaN</td>\n",
       "      <td>Was in NYC last week!</td>\n",
       "      <td>0</td>\n",
       "    </tr>\n",
       "    <tr>\n",
       "      <th>...</th>\n",
       "      <td>...</td>\n",
       "      <td>...</td>\n",
       "      <td>...</td>\n",
       "      <td>...</td>\n",
       "      <td>...</td>\n",
       "      <td>...</td>\n",
       "    </tr>\n",
       "    <tr>\n",
       "      <th>1488</th>\n",
       "      <td>7585</td>\n",
       "      <td>10839</td>\n",
       "      <td>NaN</td>\n",
       "      <td>NaN</td>\n",
       "      <td>Calgary Police Flood Road Closures in Calgary....</td>\n",
       "      <td>1</td>\n",
       "    </tr>\n",
       "    <tr>\n",
       "      <th>1489</th>\n",
       "      <td>7596</td>\n",
       "      <td>10851</td>\n",
       "      <td>NaN</td>\n",
       "      <td>NaN</td>\n",
       "      <td>RT @LivingSafely: #NWS issues Severe #Thunders...</td>\n",
       "      <td>1</td>\n",
       "    </tr>\n",
       "    <tr>\n",
       "      <th>1490</th>\n",
       "      <td>7601</td>\n",
       "      <td>10859</td>\n",
       "      <td>NaN</td>\n",
       "      <td>NaN</td>\n",
       "      <td>#breaking #LA Refugio oil spill may have been ...</td>\n",
       "      <td>1</td>\n",
       "    </tr>\n",
       "    <tr>\n",
       "      <th>1491</th>\n",
       "      <td>7605</td>\n",
       "      <td>10864</td>\n",
       "      <td>NaN</td>\n",
       "      <td>NaN</td>\n",
       "      <td>on the flip side I'm at Walmart and there is a...</td>\n",
       "      <td>1</td>\n",
       "    </tr>\n",
       "    <tr>\n",
       "      <th>1492</th>\n",
       "      <td>7610</td>\n",
       "      <td>10871</td>\n",
       "      <td>NaN</td>\n",
       "      <td>NaN</td>\n",
       "      <td>M1.94 [01:04 UTC]?5km S of Volcano Hawaii. htt...</td>\n",
       "      <td>1</td>\n",
       "    </tr>\n",
       "  </tbody>\n",
       "</table>\n",
       "<p>1493 rows × 6 columns</p>\n",
       "</div>"
      ],
      "text/plain": [
       "      Unnamed: 0     id keyword location  \\\n",
       "0              1      4     NaN      NaN   \n",
       "1              7     13     NaN      NaN   \n",
       "2             16     24     NaN      NaN   \n",
       "3             18     26     NaN      NaN   \n",
       "4             26     38     NaN      NaN   \n",
       "...          ...    ...     ...      ...   \n",
       "1488        7585  10839     NaN      NaN   \n",
       "1489        7596  10851     NaN      NaN   \n",
       "1490        7601  10859     NaN      NaN   \n",
       "1491        7605  10864     NaN      NaN   \n",
       "1492        7610  10871     NaN      NaN   \n",
       "\n",
       "                                                   text  target  \n",
       "0                Forest fire near La Ronge Sask. Canada       1  \n",
       "1     I'm on top of the hill and I can see a fire in...       1  \n",
       "2                                         I love fruits       0  \n",
       "3                                     My car is so fast       0  \n",
       "4                                 Was in NYC last week!       0  \n",
       "...                                                 ...     ...  \n",
       "1488  Calgary Police Flood Road Closures in Calgary....       1  \n",
       "1489  RT @LivingSafely: #NWS issues Severe #Thunders...       1  \n",
       "1490  #breaking #LA Refugio oil spill may have been ...       1  \n",
       "1491  on the flip side I'm at Walmart and there is a...       1  \n",
       "1492  M1.94 [01:04 UTC]?5km S of Volcano Hawaii. htt...       1  \n",
       "\n",
       "[1493 rows x 6 columns]"
      ]
     },
     "execution_count": 3,
     "metadata": {},
     "output_type": "execute_result"
    }
   ],
   "source": [
    "import pandas as pd\n",
    "import numpy as np\n",
    "from sklearn.feature_extraction.text import CountVectorizer\n",
    "\n",
    "# reading into the csv file train\n",
    "df_train = pd.read_csv('train.csv')\n",
    "\n",
    "# reads into the train columns target and text. target had 6120 1s, text has records of accidents\n",
    "Y_train = df_train[\"target\"]\n",
    "text_train = df_train[\"text\"]\n",
    "\n",
    "# X_train is a vector matrix with almost 90k elemnts, in row format\n",
    "vec = CountVectorizer()\n",
    "X_train = vec.fit_transform(text_train)\n",
    "\n",
    "# feature names is an array with weird values\n",
    "feature_names = np.asarray(vec.get_feature_names())\n",
    "\n",
    "# df test reads the test csv, Y_test is the target column, \n",
    "# lots of 1s. text_test is the text column of accidents.\n",
    "df_test = pd.read_csv('test.csv')\n",
    "Y_test = df_test[\"target\"]\n",
    "text_test = df_test[\"text\"]\n",
    "\n",
    "X_test = vec.transform(text_test)\n",
    "# these are the different tests below\n",
    "#Y_train\n",
    "#text_train\n",
    "#X_train\n",
    "#df_train\n",
    "#feature_names\n",
    "df_test\n",
    "#Y_test\n",
    "#text_test"
   ]
  },
  {
   "cell_type": "markdown",
   "metadata": {},
   "source": [
    "The variables `df_train` and `df_test` are dataframes that store the training (and testing) datasets, which are contained in csv files where the first column is the label and the second column is the text of the tweet.\n",
    "\n",
    "The [`CountVectorizer`](http://scikit-learn.org/stable/modules/generated/sklearn.feature_extraction.text.CountVectorizer.html) class converts the raw text into a bag-of-words into a feature vector representation that `sklearn` can use.\n",
    "\n",
    "\n",
    "#### Deliverable 1.1\n",
    "\n",
    "How many training instances are in the dataset? How many test instances? \n",
    "\n",
    "    6120 training instances and 1493 testing instances\n",
    "\n",
    "#### Deliverable 1.2\n",
    "\n",
    "How many features are in the training data?\n",
    "\n",
    "    6 features are in the training data.\n",
    "\n",
    "#### Deliverable 1.3\n",
    "\n",
    "What is the distribution of labels in the training data? That is, what percentage of instances are about actual disasters?\n",
    "    \n",
    "        The percentage of instances that are natural disasters, is 43.2%. This is based on the data showing 2644 natural disasters and then dividing by the total instances, 6120."
   ]
  },
  {
   "cell_type": "code",
   "execution_count": 6,
   "metadata": {},
   "outputs": [
    {
     "data": {
      "text/plain": [
       "0    3476\n",
       "1    2644\n",
       "Name: target, dtype: int64"
      ]
     },
     "execution_count": 6,
     "metadata": {},
     "output_type": "execute_result"
    }
   ],
   "source": [
    "df_train[\"target\"].value_counts()"
   ]
  },
  {
   "cell_type": "code",
   "execution_count": 7,
   "metadata": {},
   "outputs": [
    {
     "data": {
      "text/plain": [
       "0.4320261437908497"
      ]
     },
     "execution_count": 7,
     "metadata": {},
     "output_type": "execute_result"
    }
   ],
   "source": [
    "2644 / 6120"
   ]
  },
  {
   "cell_type": "markdown",
   "metadata": {},
   "source": [
    "## SGDC Classifier\n",
    "The code below trains an [`SGDClassifier`](http://scikit-learn.org/stable/modules/generated/sklearn.linear_model.SGDClassifier.html) using the perceptron loss, then it measures the accuracy of the classifier on the test data, using `sklearn`'s [`accuracy_score`](http://scikit-learn.org/stable/modules/generated/sklearn.metrics.accuracy_score.html) function. \n",
    "\n",
    "The `fit` function trains the classifier. The feature weights are stored in the `coef_` variable after training. The `predict` function of the trained `SGDClassifier` outputs the predicted label for a given instance or list of instances.\n",
    "\n",
    "Additionally, this code displays the features and their weights in sorted order, which you may want to examine to understand what the classifier is learning. In general, in binary classification, the 0 class is considered the \"negative\" class.\n",
    "\n",
    "There are 3 keyword arguments that have been added to the code below. It is important you keep the same values of these arguments whenever you create an `SGDClassifier` instance in this assignment so that you get consistent results. They are:\n",
    "\n",
    "- `max_iter` is one of the stopping criteria, which is the maximum number of iterations/epochs the algorithm will run for.\n",
    "\n",
    "- `tol` is the other stopping criterion, which is how small the difference between the current loss and previous loss should be before stopping.\n",
    "\n",
    "- `random_state` is a seed for pseudorandom number generation. The algorithm uses randomness in the way the training data are sorted, which will affect the solution that is learned, and even the accuracy of that solution.\n",
    "\n",
    "Note: The loss function is convex, so the algorithm will find the same minimum regardless of how it is trained. Why is there random variation in the output? The reason is that even though there is only one minimum value of the loss, there may be different weights that result in the same loss, so randomness is a matter of tie-breaking. What's more, while different weights may have the same loss, they could lead to different classification accuracies, because the loss function is not the same as accuracy. (Unless accuracy was your loss function... which is possible, but uncommon because it turns out to be a difficult function to optimize.)\n",
    "Note that different computers may still give different answers, despite keeping these settings the same, because of how pseudorandom numbers are generated with different operating systems and Python environments.*\n",
    "\n",
    "To begin, run the code in the cell below without modification."
   ]
  },
  {
   "cell_type": "code",
   "execution_count": 5,
   "metadata": {},
   "outputs": [
    {
     "name": "stdout",
     "output_type": "stream",
     "text": [
      "Number of SGD iterations: 35\n",
      "Training accuracy: 0.987908\n",
      "Testing accuracy: 0.781648\n",
      "\n",
      "Feature weights:\n",
      "\n",
      " - lowest\n",
      "\t zy3hpdjnwg: -0.7900\n",
      "\t qzlpfhpwdo: -0.6970\n",
      "\t better: -0.5112\n",
      "\t f7wqpcekg2: -0.5112\n",
      "\t sun: -0.5112\n",
      "\n",
      " - highest\n",
      "\t storm: 0.8829\n",
      "\t sunburned: 0.9294\n",
      "\t hurricane: 0.9294\n",
      "\t massacre: 1.0688\n",
      "\t earthquake: 1.2547\n"
     ]
    }
   ],
   "source": [
    "from sklearn.linear_model import SGDClassifier\n",
    "from sklearn.metrics import accuracy_score, precision_score\n",
    "\n",
    "classifier = SGDClassifier(loss='perceptron', max_iter=1000, tol=1.0e-12, random_state=123, eta0=100)\n",
    "classifier.fit(X_train, Y_train)\n",
    "\n",
    "print(\"Number of SGD iterations: %d\" % classifier.n_iter_)\n",
    "print(\"Training accuracy: %0.6f\" % accuracy_score(Y_train, classifier.predict(X_train)))\n",
    "print(\"Testing accuracy: %0.6f\" % accuracy_score(Y_test, classifier.predict(X_test)))\n",
    "\n",
    "print(\"\\nFeature weights:\")\n",
    "args = np.argsort(classifier.coef_[0])\n",
    "\n",
    "print(\"\\n - lowest\")\n",
    "for a in args[0:5]:\n",
    "    print(\"\\t %s: %0.4f\" % (feature_names[a], classifier.coef_[0][a]))\n",
    "   \n",
    "print(\"\\n - highest\")\n",
    "for a in args[-5:]:\n",
    "    print(\"\\t %s: %0.4f\" % (feature_names[a], classifier.coef_[0][a]))"
   ]
  },
  {
   "cell_type": "markdown",
   "metadata": {},
   "source": [
    "#### Deliverable 2.1\n",
    "\n",
    "Based on the training accuracy, do you conclude that the data are (mostly) linearly separable? Why or why not?\n",
    "\n",
    "    Yes, because the number is statistically significant. The training accuracy is at 98.79%, which in a perceptron means it is linearly separable.\n",
    "\n",
    "#### Deliverable 2.2\n",
    "\n",
    "Which feature most increases the likelihood that the tweet does not refer to a real disaster, and which feature most increases the likelihood that the tweet refers to a real disaster? \n",
    "\n",
    "    The feature that most likely refers to a tweet of a real disatster is earthquake. It has the highest weight. While, zy3hpdjnwg has the lowest weight making it the least likely tweet to refer to a real disaster."
   ]
  },
  {
   "cell_type": "markdown",
   "metadata": {},
   "source": [
    "#### Deliverable 2.3 \n",
    "One technique for improving the resulting model with perceptron is to take an average of the weight vectors learned at different iterations of the algorithm, rather than only using the final weights that minimize the loss. That is, calculate $\\bar{\\mathbf{w}} = \\sum_{t=1}^T \\mathbf{w}^{(t)}$ where $\\mathbf{w}^{(t)}$ is the weight vector at iteration $t$ of the algorithm and $T$ is the number of iterations, and then use $\\bar{\\mathbf{w}}$ when making classifications on new data.\n",
    "\n",
    "To use this technique in your classifier, add the keyword argument `average=True` to the `SGDClassifier` function. Try it now using the cells below.\n",
    "\n",
    "Compare the initial training/test accuracies to the training/test accuracies after doing averaging. What happens? Why do you think averaging the weights from different iterations has this effect?"
   ]
  },
  {
   "cell_type": "code",
   "execution_count": 46,
   "metadata": {},
   "outputs": [
    {
     "data": {
      "text/plain": [
       "1.9299999999999926"
      ]
     },
     "execution_count": 46,
     "metadata": {},
     "output_type": "execute_result"
    }
   ],
   "source": [
    "a = 97.71 - 98.79\n",
    "b = 81.17 - 78.16 \n",
    "a + b"
   ]
  },
  {
   "cell_type": "code",
   "execution_count": 55,
   "metadata": {},
   "outputs": [
    {
     "name": "stdout",
     "output_type": "stream",
     "text": [
      "Number of SGD iterations: 35\n",
      "Training accuracy: 0.977124\n",
      "Testing accuracy: 0.811788\n",
      "\n",
      "Feature weights:\n",
      "\n",
      " - lowest\n",
      "\t full: -1.6394\n",
      "\t sun: -1.3797\n",
      "\t better: -1.3130\n",
      "\t also: -1.3088\n",
      "\t book: -1.2684\n",
      "\n",
      " - highest\n",
      "\t storm: 2.0315\n",
      "\t earthquake: 2.0326\n",
      "\t floods: 2.0351\n",
      "\t fires: 2.1129\n",
      "\t hiroshima: 2.1832\n"
     ]
    }
   ],
   "source": [
    "from sklearn.linear_model import SGDClassifier\n",
    "from sklearn.metrics import accuracy_score, precision_score\n",
    "\n",
    "classifier = SGDClassifier(loss='perceptron', max_iter=1000, tol=1.0e-12, random_state=123, eta0=100, average = True)\n",
    "classifier.fit(X_train, Y_train)\n",
    "\n",
    "print(\"Number of SGD iterations: %d\" % classifier.n_iter_)\n",
    "print(\"Training accuracy: %0.6f\" % accuracy_score(Y_train, classifier.predict(X_train)))\n",
    "print(\"Testing accuracy: %0.6f\" % accuracy_score(Y_test, classifier.predict(X_test)))\n",
    "\n",
    "print(\"\\nFeature weights:\")\n",
    "args = np.argsort(classifier.coef_[0])\n",
    "\n",
    "print(\"\\n - lowest\")\n",
    "for a in args[0:5]:\n",
    "    print(\"\\t %s: %0.4f\" % (feature_names[a], classifier.coef_[0][a]))\n",
    "   \n",
    "print(\"\\n - highest\")\n",
    "for a in args[-5:]:\n",
    "    print(\"\\t %s: %0.4f\" % (feature_names[a], classifier.coef_[0][a]))"
   ]
  },
  {
   "cell_type": "markdown",
   "metadata": {},
   "source": [
    "    The training accuracy decreased to 97.71%, while the testing accuracy increased to 81.17%, for an overall increase in accuracy of approximately 2%. This is because the perceptron is combining the predicted outcomes of each iteration, and averages those outcomes for higher accuracy."
   ]
  },
  {
   "cell_type": "markdown",
   "metadata": {},
   "source": [
    "## Logistic regression\n",
    "\n",
    "For this problem, create a new `SGDClassifier`, this time setting the `loss` argument to `'log'`, which will train a logistic regression classifier. Set `average=False` for the remaining problems.\n",
    "\n",
    "Once you have trained the classifier, you can use the `predict` function to get the classifications, as with perceptron. Additionally, logistic regression provides probabilities for the predictions. You can get the probabilities by calling the `predict_proba` function. This will give a list of two numbers; the first is the probability that the class is $0$ and the second is the probability that the class is $1$.\n",
    "\n",
    "\n",
    "For the first task, add the keyword argument `alpha` to the `SGDClassifier` function. This is the regularization strength, called $\\lambda$ in lecture. If you don't specify `alpha`, it defaults to $0.0001$. Experiment with other values and see how this affects the outcome.\n",
    "\n",
    "#### Deliverable 3.1: \n",
    "\n",
    "Calculated the training and testing accuracy when `alpha` is one of $[0.0001, 0.001, 0.01, 0.1, 1.0, 10.0, 100.0]$. Created a plot where the x-axis is `alpha` and the y-axis is accuracy, with two lines (one for training and one for testing). You can borrow the code from HW1 for generating plots in Python. Use [a log scale for the x-axis](https://matplotlib.org/examples/pylab_examples/log_demo.html) so that the `alpha` values are spaced evenly.\n"
   ]
  },
  {
   "cell_type": "code",
   "execution_count": 24,
   "metadata": {
    "scrolled": true
   },
   "outputs": [
    {
     "data": {
      "image/png": "[encoded data removed]",
      "text/plain": [
       "<Figure size 432x288 with 1 Axes>"
      ]
     },
     "metadata": {
      "needs_background": "light"
     },
     "output_type": "display_data"
    }
   ],
   "source": [
    "# starter code\n",
    "\n",
    "from sklearn.linear_model import SGDClassifier\n",
    "from sklearn.metrics import accuracy_score, precision_score\n",
    "\n",
    "classifier = SGDClassifier(loss = 'log', max_iter = 1000, alpha = 0.01, tol = 1.0e-12, random_state = 123, eta0 = 100, average = False)\n",
    "classifier.fit(X_train, Y_train)\n",
    " \n",
    "training_Accuracy = [0,0,0,0,0,0,0]\n",
    "\n",
    "testing_Accuracy = [0,0,0,0,0,0,0]\n",
    "\n",
    "\n",
    "c1 = SGDClassifier(loss = 'log', max_iter = 1000, alpha = 0.0001, tol = 1.0e-12, random_state = 123, eta0 = 100, average = False)\n",
    "c1.fit(X_train, Y_train)\n",
    "\n",
    "\n",
    "c2 = SGDClassifier(loss = 'log', max_iter = 1000, alpha = 0.001, tol = 1.0e-12, random_state = 123, eta0 = 100, average = False)\n",
    "c2.fit(X_train, Y_train)\n",
    "\n",
    "\n",
    "c3 = SGDClassifier(loss = 'log', max_iter = 1000, alpha = 0.01, tol = 1.0e-12, random_state = 123, eta0 = 100, average=False)\n",
    "c3.fit(X_train, Y_train)\n",
    "\n",
    "\n",
    "c4 = SGDClassifier(loss = 'log', max_iter = 1000, alpha = 0.1, tol = 1.0e-12, random_state = 123, eta0 = 100, average = False)\n",
    "c4.fit(X_train, Y_train)\n",
    "\n",
    "c5 = SGDClassifier(loss = 'log', max_iter = 1000, alpha = 1.0, tol = 1.0e-12, random_state = 123, eta0 = 100, average = False)\n",
    "c5.fit(X_train, Y_train)\n",
    "\n",
    " \n",
    "c6 = SGDClassifier(loss = 'log', max_iter = 1000, alpha = 10, tol = 1.0e-12, random_state = 123, eta0 = 100, average = False)\n",
    "c6.fit(X_train, Y_train)\n",
    "\n",
    "\n",
    "c7 = SGDClassifier(loss = 'log', max_iter = 1000, alpha = 100, tol = 1.0e-12, random_state = 123, eta0 = 100, average=False)\n",
    "c7.fit(X_train, Y_train)\n",
    "\n",
    "\n",
    "training_Accuracy[0] = accuracy_score(Y_train, c1.predict(X_train))\n",
    "training_Accuracy[1] = accuracy_score(Y_train, c2.predict(X_train))\n",
    "training_Accuracy[2] = accuracy_score(Y_train, c3.predict(X_train))\n",
    "training_Accuracy[3] = accuracy_score(Y_train, c4.predict(X_train))\n",
    "training_Accuracy[4] = accuracy_score(Y_train, c5.predict(X_train))\n",
    "training_Accuracy[5] = accuracy_score(Y_train, c6.predict(X_train))\n",
    "training_Accuracy[6] = accuracy_score(Y_train, c7.predict(X_train))\n",
    "\n",
    "testing_Accuracy[0] = accuracy_score(Y_test, c1.predict(X_test))\n",
    "testing_Accuracy[1] = accuracy_score(Y_test, c2.predict(X_test))\n",
    "testing_Accuracy[2] = accuracy_score(Y_test, c3.predict(X_test))\n",
    "testing_Accuracy[3] = accuracy_score(Y_test, c4.predict(X_test))\n",
    "testing_Accuracy[4] = accuracy_score(Y_test, c5.predict(X_test))\n",
    "testing_Accuracy[5] = accuracy_score(Y_test, c6.predict(X_test))\n",
    "testing_Accuracy[6] = accuracy_score(Y_test, c7.predict(X_test))\n",
    "\n",
    "alpha = [0.0001, 0.001, 0.01, 0.1, 1.0, 10.0, 100.0]\n",
    "\n",
    "plt.subplot(222)\n",
    "plt.semilogx(alpha, training_Accuracy)\n",
    "plt.grid(True)\n",
    "\n",
    "plt.title('accuracy based on alpha')\n",
    "plt.plot(alpha, training_Accuracy, label = 'Training Accuracy', marker = 'o')\n",
    "plt.plot(alpha, testing_Accuracy, label = 'Tesing Accuracy', marker = 'o', color = \"blue\")\n",
    "plt.legend()\n",
    "plt.xlabel('Alpha')\n",
    "plt.ylabel('Accuracy')\n",
    "plt.show()\n"
   ]
  },
  {
   "cell_type": "markdown",
   "metadata": {},
   "source": [
    "#### Deliverable 3.2\n",
    "\n",
    "Examine the classifier probabilities using the `predict_proba` function when training with different values of `alpha`. What do you observe? How does `alpha` affect the prediction probabilities, and why do you think this happens?\n",
    "\n",
    "    As the value of alpha increases the overall accuracy of predict_proba, and both the training and testing data gets worse. When alpha is at 0.0001 it is at its most accurate. Any smaller or larger and it becomes less accurate. This is because it calculates the penalty and 0.0001 fits the weights the most for optimizing the training and testing accuracy. "
   ]
  },
  {
   "cell_type": "code",
   "execution_count": 42,
   "metadata": {},
   "outputs": [
    {
     "data": {
      "text/plain": [
       "array([[0.1073517 , 0.8926483 ],\n",
       "       [0.07474336, 0.92525664],\n",
       "       [0.04847949, 0.95152051],\n",
       "       ...,\n",
       "       [0.00976061, 0.99023939],\n",
       "       [0.04878059, 0.95121941],\n",
       "       [0.00382533, 0.99617467]])"
      ]
     },
     "execution_count": 42,
     "metadata": {},
     "output_type": "execute_result"
    }
   ],
   "source": [
    "c1.predict_proba(X_train)"
   ]
  },
  {
   "cell_type": "code",
   "execution_count": 45,
   "metadata": {},
   "outputs": [
    {
     "data": {
      "text/plain": [
       "array([[0.35321656, 0.64678344],\n",
       "       [0.16869801, 0.83130199],\n",
       "       [0.13702526, 0.86297474],\n",
       "       ...,\n",
       "       [0.03844073, 0.96155927],\n",
       "       [0.18279678, 0.81720322],\n",
       "       [0.03216899, 0.96783101]])"
      ]
     },
     "execution_count": 45,
     "metadata": {},
     "output_type": "execute_result"
    }
   ],
   "source": [
    "c2.predict_proba(X_train)"
   ]
  },
  {
   "cell_type": "code",
   "execution_count": 46,
   "metadata": {},
   "outputs": [
    {
     "data": {
      "text/plain": [
       "array([[0.53629373, 0.46370627],\n",
       "       [0.32635411, 0.67364589],\n",
       "       [0.30038956, 0.69961044],\n",
       "       ...,\n",
       "       [0.18228622, 0.81771378],\n",
       "       [0.32799007, 0.67200993],\n",
       "       [0.18481425, 0.81518575]])"
      ]
     },
     "execution_count": 46,
     "metadata": {},
     "output_type": "execute_result"
    }
   ],
   "source": [
    "c3.predict_proba(X_train)"
   ]
  },
  {
   "cell_type": "code",
   "execution_count": 47,
   "metadata": {},
   "outputs": [
    {
     "data": {
      "text/plain": [
       "array([[0.54681201, 0.45318799],\n",
       "       [0.46917619, 0.53082381],\n",
       "       [0.44543801, 0.55456199],\n",
       "       ...,\n",
       "       [0.44182658, 0.55817342],\n",
       "       [0.46094343, 0.53905657],\n",
       "       [0.41797239, 0.58202761]])"
      ]
     },
     "execution_count": 47,
     "metadata": {},
     "output_type": "execute_result"
    }
   ],
   "source": [
    "c4.predict_proba(X_train)"
   ]
  },
  {
   "cell_type": "code",
   "execution_count": 48,
   "metadata": {},
   "outputs": [
    {
     "data": {
      "text/plain": [
       "array([[0.51459256, 0.48540744],\n",
       "       [0.50241214, 0.49758786],\n",
       "       [0.49491548, 0.50508452],\n",
       "       ...,\n",
       "       [0.5094737 , 0.4905263 ],\n",
       "       [0.49789611, 0.50210389],\n",
       "       [0.49055035, 0.50944965]])"
      ]
     },
     "execution_count": 48,
     "metadata": {},
     "output_type": "execute_result"
    }
   ],
   "source": [
    "c5.predict_proba(X_train)"
   ]
  },
  {
   "cell_type": "code",
   "execution_count": 49,
   "metadata": {},
   "outputs": [
    {
     "data": {
      "text/plain": [
       "array([[0.50239332, 0.49760668],\n",
       "       [0.50106973, 0.49893027],\n",
       "       [0.50015043, 0.49984957],\n",
       "       ...,\n",
       "       [0.50220857, 0.49779143],\n",
       "       [0.50048597, 0.49951403],\n",
       "       [0.49968586, 0.50031414]])"
      ]
     },
     "execution_count": 49,
     "metadata": {},
     "output_type": "execute_result"
    }
   ],
   "source": [
    "c6.predict_proba(X_train)"
   ]
  },
  {
   "cell_type": "code",
   "execution_count": 50,
   "metadata": {},
   "outputs": [
    {
     "data": {
      "text/plain": [
       "array([[0.50056581, 0.49943419],\n",
       "       [0.50043237, 0.49956763],\n",
       "       [0.50033777, 0.49966223],\n",
       "       ...,\n",
       "       [0.50055279, 0.49944721],\n",
       "       [0.50037189, 0.49962811],\n",
       "       [0.50029223, 0.49970777]])"
      ]
     },
     "execution_count": 50,
     "metadata": {},
     "output_type": "execute_result"
    }
   ],
   "source": [
    "c7.predict_proba(X_train)"
   ]
  },
  {
   "cell_type": "code",
   "execution_count": 44,
   "metadata": {},
   "outputs": [
    {
     "data": {
      "text/plain": [
       "[0.9833333333333333,\n",
       " 0.9016339869281046,\n",
       " 0.8086601307189543,\n",
       " 0.7107843137254902,\n",
       " 0.6741830065359478,\n",
       " 0.6570261437908497,\n",
       " 0.5674836601307189]"
      ]
     },
     "execution_count": 44,
     "metadata": {},
     "output_type": "execute_result"
    }
   ],
   "source": [
    "training_Accuracy"
   ]
  },
  {
   "cell_type": "code",
   "execution_count": 26,
   "metadata": {},
   "outputs": [
    {
     "data": {
      "text/plain": [
       "[0.8077695914266577,\n",
       " 0.8137977227059612,\n",
       " 0.7736101808439384,\n",
       " 0.695244474212994,\n",
       " 0.6651038178164769,\n",
       " 0.6617548559946417,\n",
       " 0.580040187541862]"
      ]
     },
     "execution_count": 26,
     "metadata": {},
     "output_type": "execute_result"
    }
   ],
   "source": [
    "testing_Accuracy"
   ]
  },
  {
   "cell_type": "markdown",
   "metadata": {},
   "source": [
    "#### Deliverable 3.3: \n",
    "\n",
    "Now remove the `alpha` argument so that it goes back to the default value. We'll now look at the effect of the learning rate. By default, `sklearn` uses an \"optimal\" learning rate based on some heuristics that work well for many problems. However, it can be good to see how the learning rate can affect the algorithm.\n",
    "\n",
    "For this task, add the keyword argument `learning_rate` to the `SGDClassifier` function and set the value to `invscaling`. This defines the learning rate at iteration $t$ as: $\\eta_t = \\frac{\\eta_0}{t^a}$, where $\\eta_0$ and $a$ are both arguments you have to define in the `SGDClassifier` function, called `eta0` and `power_t`, respectively. Experiment with different values of `eta0` and `power_t` and see how they affect the number of iterations it takes the algorithm to converge. You will often find that it will not finish within the maximum of $1000$ iterations."
   ]
  },
  {
   "cell_type": "code",
   "execution_count": 40,
   "metadata": {},
   "outputs": [
    {
     "name": "stderr",
     "output_type": "stream",
     "text": [
      "/Users/johnnyparkerlee/opt/anaconda3/envs/ML/lib/python3.8/site-packages/sklearn/linear_model/_stochastic_gradient.py:574: ConvergenceWarning: Maximum number of iteration reached before convergence. Consider increasing max_iter to improve the fit.\n",
      "  warnings.warn(\"Maximum number of iteration reached before \"\n"
     ]
    },
    {
     "data": {
      "text/plain": [
       "SGDClassifier(eta0=10000, learning_rate='invscaling', loss='log', power_t=2.0,\n",
       "              random_state=123, tol=1e-12)"
      ]
     },
     "execution_count": 40,
     "metadata": {},
     "output_type": "execute_result"
    }
   ],
   "source": [
    "from sklearn.linear_model import SGDClassifier\n",
    "from sklearn.metrics import accuracy_score, precision_score\n",
    "\n",
    "classifier = SGDClassifier(loss = 'log', max_iter = 1000, eta0 = 10000, power_t = 2.0, learning_rate = \"invscaling\", tol = 1.0e-12, random_state = 123, average = False)\n",
    "classifier.fit(X_train, Y_train)\n"
   ]
  },
  {
   "cell_type": "code",
   "execution_count": 41,
   "metadata": {},
   "outputs": [
    {
     "data": {
      "text/plain": [
       "1000"
      ]
     },
     "execution_count": 41,
     "metadata": {},
     "output_type": "execute_result"
    }
   ],
   "source": [
    "classifier.n_iter_"
   ]
  },
  {
   "cell_type": "markdown",
   "metadata": {},
   "source": [
    "Fill in the table below with the number of iterations for values of `eta0` in $[10.0, 100.0, 1000.0, 10000.0]$ and values of `power_t` in $[0.5, 1.0, 2.0]$. You may find it easier to write python code that can output the markdown for the table, but if you do that place the output here. If it does not converge within the maximum number of iterations (set to $1000$ by `max_iter`), record $1000$ as the number of iterations. You will need to read the documentation for this class to learn how to recover the actual number of iterations before reaching the stopping criterion.\n",
    "\n",
    "| `eta0`   | `power_t` | # Iterations |\n",
    "|:----------|:-:|:------------:|\n",
    "| $10.0$    | $0.5$     |      $177$         |\n",
    "| $10.0$    | $1.0$     |      $1000$       |\n",
    "| $10.0$    | $2.0$     |         $1000$      |\n",
    "| $100.0$   | $0.5$     |          $94$     |\n",
    "| $100.0$   | $1.0$     |          $1000$     |\n",
    "| $100.0$   | $2.0$     |           $1000$    |\n",
    "| $1000.0$  | $0.5$     |         $105$      |\n",
    "| $1000.0$  | $1.0$     |        $1000$      |\n",
    "| $1000.0$  | $2.0$     |         $1000$      |\n",
    "| $10000.0$ | $0.5$     |        $88$       |\n",
    "| $10000.0$ | $1.0$     |      $126$         |\n",
    "| $10000.0$ | $2.0$     |      $1000$         |"
   ]
  },
  {
   "cell_type": "markdown",
   "metadata": {},
   "source": [
    "#### Deliverable 3.4\n",
    "\n",
    "Describe how `eta0` and `power_t` affect the learning rate based on the formula (e.g., if you increase `power_t`, what will this do to the learning rate?), and connect this to what you observe in the table above.\n",
    "\n",
    "    If you increase power_t the learning rate will decrease because it maxes out the iterations. In contrast, if you increase learning rate, power_t will decreases. This is because it takes more time to classify the algorithm and converge on the iterations. "
   ]
  },
  {
   "cell_type": "markdown",
   "metadata": {},
   "source": [
    "Now remove the `learning_rate`, `eta0`, and `power_t` arguments so that the learning rate returns to the default setting. For this final task, we will experiment with how high the probabiity must be before an instance is classified as positive.\n",
    "\n",
    "The code below includes a function called `threshold` which takes as input the classification probabilities of the data (called `probs`, which is given by the function `predict_proba`) and a threshold (called `tau`, a scalar that should be a value between $0$ and $1$). It will classify each instance as $1$ if the probability of being $1$ is greater than `tau`, otherwise it will classify the instance as $0$. Note that if you set `tau` to $0.5$, the `threshold` function should give you exactly the same output as the classifier `predict` function.\n",
    "\n",
    "You should find that increasing the threshold causes the accuracy to drop. This makes sense, because you are classifying some things as 0 even though it's more probable that they are 1. So why do this? Suppose you care more about accurately identifying tweets about natural disasters than missing tweets about disasters (e.g. maybe you forward these tweets to first responders.) You thus want to be confident that when you classify a tweet as 1 that it really is 1.\n",
    "\n",
    "There is a metric called _precision_ which measures something like accuracy but for one specific class. Whereas accuracy is the percentage of tweets that were correctly classified, the precision of 1 would be the percentage of tweets classified as 1 that were correctly classified. (In other words, the number of tweets classified as 1 whose correct label was 1, divided by the number of tweets classified as 1.)\n",
    "\n",
    "Used the [`precision_score`](http://scikit-learn.org/stable/modules/generated/sklearn.metrics.precision_score.html#sklearn.metrics.precision_score) function from `sklearn` to calculate the precision. It works similarly to the `accuracy_score` function."
   ]
  },
  {
   "cell_type": "markdown",
   "metadata": {},
   "source": [
    "#### Deliverable 3.5\n",
    "\n",
    "Calculating the testing precision when the value of `tau` for thresholding is one of $[0.5, 0.6, 0.7, 0.8, 0.9, 0.95, 0.99]$. Created a plot where the x-axis is `tau` and the y-axis is precision."
   ]
  },
  {
   "cell_type": "code",
   "execution_count": 58,
   "metadata": {
    "collapsed": true
   },
   "outputs": [
    {
     "name": "stdout",
     "output_type": "stream",
     "text": [
      "[1 0 0 ... 1 1 1]\n",
      "0.8090909090909091\n",
      "[1 0 0 ... 1 1 1]\n",
      "0.8481781376518218\n",
      "[1 0 0 ... 1 1 1]\n",
      "0.8906605922551253\n",
      "[1 0 0 ... 1 0 1]\n",
      "0.9205479452054794\n",
      "[1 0 0 ... 1 0 1]\n",
      "0.9547038327526133\n",
      "[1 0 0 ... 1 0 0]\n",
      "0.9723502304147466\n",
      "[0 0 0 ... 0 0 0]\n",
      "0.9894736842105263\n"
     ]
    }
   ],
   "source": [
    "tau = [0.5 , 0.6, 0.7, 0.8, 0.9, 0.95, 0.99] \n",
    "for x in tau:\n",
    "    print(threshold(classifier.predict_proba(X_test), x))\n",
    "    print(precision_score(Y_test, threshold(classifier.predict_proba(X_test), x)))"
   ]
  },
  {
   "cell_type": "code",
   "execution_count": 60,
   "metadata": {
    "collapsed": true
   },
   "outputs": [
    {
     "data": {
      "text/plain": [
       "[0.8090909090909091,\n",
       " 0.8481781376518218,\n",
       " 0.8906605922551253,\n",
       " 0.9205479452054794,\n",
       " 0.9547038327526133,\n",
       " 0.9723502304147466,\n",
       " 0.9894736842105263]"
      ]
     },
     "execution_count": 60,
     "metadata": {},
     "output_type": "execute_result"
    }
   ],
   "source": [
    "precision = [0,0,0,0,0,0,0]\n",
    "precision[0] = precision_score(Y_test, threshold(classifier.predict_proba(X_test), 0.5))\n",
    "precision[1] = precision_score(Y_test, threshold(classifier.predict_proba(X_test), 0.6))\n",
    "precision[2] = precision_score(Y_test, threshold(classifier.predict_proba(X_test), 0.7))\n",
    "precision[3] = precision_score(Y_test, threshold(classifier.predict_proba(X_test), 0.8))\n",
    "precision[4] = precision_score(Y_test, threshold(classifier.predict_proba(X_test), 0.9))\n",
    "precision[5] = precision_score(Y_test, threshold(classifier.predict_proba(X_test), 0.95))\n",
    "precision[6] = precision_score(Y_test, threshold(classifier.predict_proba(X_test), 0.99))\n",
    "precision"
   ]
  },
  {
   "cell_type": "code",
   "execution_count": 69,
   "metadata": {},
   "outputs": [
    {
     "data": {
      "image/png": "[encoded data removed]",
      "text/plain": [
       "<Figure size 432x288 with 1 Axes>"
      ]
     },
     "metadata": {
      "needs_background": "light"
     },
     "output_type": "display_data"
    }
   ],
   "source": [
    "# use this function for deliverable 3.5\n",
    "# this function gives an array of 0 or 1. it is 1 if it is greater than tau and 0 if not.\n",
    "def threshold(probs, tau):\n",
    "    return np.where(probs[:,1] > tau, 1, 0)\n",
    "\n",
    "# your logistic regression code here\n",
    "\n",
    "classifier = SGDClassifier(loss = 'log', max_iter = 1000, tol = 1.0e-12, random_state = 123, average = False)\n",
    "classifier.fit(X_train, Y_train)\n",
    "\n",
    "plt.title('Threshold vs Precision')\n",
    "plt.plot(tau, precision, label = 'Precision Score', marker = 'o')\n",
    "plt.legend()\n",
    "plt.xlabel('Threshold')\n",
    "plt.ylabel('Precision')\n",
    "plt.show()"
   ]
  },
  {
   "cell_type": "markdown",
   "metadata": {},
   "source": [
    "#### Deliverable 3.6\n",
    "\n",
    "Describing the observations and what happens to the precision of the threshold as it increases."
   ]
  },
  {
   "cell_type": "markdown",
   "metadata": {},
   "source": [
    "    As the precision score increases, the values increase for threshold, closer to 1. I believe this happens because accuracy_scores tells us if it was a natural disaster   or not, and the precision score tells us whether or not the score actually represented a natural disaster or not. In essence, Precision increased because the threshold was high, any tweets classified closer to 1 were in a higher threshold, and showed actual disasters."
   ]
  }
 ],
 "metadata": {
  "kernelspec": {
   "display_name": "Python 3 (ipykernel)",
   "language": "python",
   "name": "python3"
  },
  "language_info": {
   "codemirror_mode": {
    "name": "ipython",
    "version": 3
   },
   "file_extension": ".py",
   "mimetype": "text/x-python",
   "name": "python",
   "nbconvert_exporter": "python",
   "pygments_lexer": "ipython3",
   "version": "3.8.10"
  }
 },
 "nbformat": 4,
 "nbformat_minor": 2
}
