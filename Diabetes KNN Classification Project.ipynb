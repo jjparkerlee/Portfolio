{
 "cells": [
  {
   "cell_type": "code",
   "execution_count": 2,
   "metadata": {},
   "outputs": [],
   "source": [
    "# import the needed libraries\n",
    "\n",
    "import numpy as np\n",
    "import pandas as pd\n",
    "import sklearn\n",
    "\n",
    "# configure matplotlib to show plots in the notebook itself\n",
    "%matplotlib inline "
   ]
  },
  {
   "cell_type": "markdown",
   "metadata": {},
   "source": [
    "### Data\n",
    "\n",
    "In this notebook, I used the [Pima Indians Diabetes Dataset](https://www.kaggle.com/uciml/pima-indians-diabetes-database). The data consists of patient records with a number of features, along with a binary label indicating if the patient has diabetes or not. Note that \"all patients here are females at least 21 years old of Pima Indian heritage.\" Note that the `Outcome` variable records if a patient does or does not have diabetes."
   ]
  },
  {
   "cell_type": "code",
   "execution_count": 3,
   "metadata": {},
   "outputs": [],
   "source": [
    "df = pd.read_csv('diabetes.csv') #Loading the dataset\n",
    "\n",
    "# Starting with a two-dimensional dataset to build intuitions\n",
    "low_dim = df[['Glucose', 'BloodPressure', \"Outcome\"]]"
   ]
  },
  {
   "cell_type": "code",
   "execution_count": 4,
   "metadata": {},
   "outputs": [
    {
     "data": {
      "text/plain": [
       "<AxesSubplot:title={'center':'BloodPressure x Glucose'}, xlabel='Glucose', ylabel='BloodPressure'>"
      ]
     },
     "execution_count": 4,
     "metadata": {},
     "output_type": "execute_result"
    },
    {
     "data": {
      "image/png": "[encoded data removed]",
      "text/plain": [
       "<Figure size 432x288 with 2 Axes>"
      ]
     },
     "metadata": {
      "needs_background": "light"
     },
     "output_type": "display_data"
    }
   ],
   "source": [
    "from sklearn.neighbors import KNeighborsClassifier\n",
    "\n",
    "# Dividing the dataset into training and testing  \n",
    "train = low_dim[0:700]\n",
    "test = low_dim[700:]\n",
    "\n",
    "test.plot.scatter(x='Glucose', y='BloodPressure', c=\"Outcome\", colormap='viridis', title=\"BloodPressure x Glucose\")"
   ]
  },
  {
   "cell_type": "markdown",
   "metadata": {},
   "source": [
    "### Step 1 \n",
    "\n",
    "Train a KNN classifier on the training set. Set `K`=2. Then test your classifier on the test set. How accurate is your classifier on the test set?"
   ]
  },
  {
   "cell_type": "code",
   "execution_count": 19,
   "metadata": {},
   "outputs": [],
   "source": [
    "from sklearn.neighbors import KNeighborsClassifier\n"
   ]
  },
  {
   "cell_type": "markdown",
   "metadata": {},
   "source": [
    "### Step 2\n",
    "\n",
    "Implementing bagging. The basic procedure is \n",
    "\n",
    "1. Sample $N$ datapoints with replacement from the training set, where $N$ is the size of the training set.\n",
    "2. Train a classifier on the $N$ datapoints\n",
    "3. Make predictions for the test set\n",
    "4. Average your predictions to make an aggregated prediction"
   ]
  },
  {
   "cell_type": "code",
   "execution_count": 6,
   "metadata": {},
   "outputs": [],
   "source": [
    "def sample_with_replacement(training_set):\n",
    "    #https://pandas.pydata.org/pandas-docs/stable/reference/api/pandas.DataFrame.sample.html\n",
    "    '''\n",
    "    Implement your code here\n",
    "    Your function should return N instances from the training set, \n",
    "    selected at random with replacement\n",
    "    '''\n",
    "    return training_set.sample(n=len(training_set), replace = True)\n",
    "\n",
    "def predict(knn_clf, test_set):\n",
    "    '''Return a vector of predictions on the test set with your knn_clf'''\n",
    "    return knn_clf.predict(X = test_set [['Glucose', 'BloodPressure']].to_numpy())"
   ]
  },
  {
   "cell_type": "code",
   "execution_count": 7,
   "metadata": {},
   "outputs": [],
   "source": [
    "new_train = sample_with_replacement(train)"
   ]
  },
  {
   "cell_type": "code",
   "execution_count": 20,
   "metadata": {},
   "outputs": [],
   "source": [
    "# implement bagging \n",
    "\n",
    "all_predictions = []\n",
    "\n",
    "for i in range(1000):  \n",
    "    \n",
    "    # sample from the training set\n",
    "    new_training_set = sample_with_replacement(training_set=train)\n",
    "    \n",
    "    knn = KNeighborsClassifier(n_neighbors = 2)\n",
    "    \n",
    "    knn.fit(X = new_training_set[[\"Glucose\", \"BloodPressure\"]].to_numpy(), y = new_training_set['Outcome'].to_numpy())      \n",
    "    \n",
    "    preds = predict(knn_clf = knn, test_set = test)\n",
    "    \n",
    "    all_predictions.append(preds)\n",
    "\n"
   ]
  },
  {
   "cell_type": "code",
   "execution_count": 21,
   "metadata": {},
   "outputs": [
    {
     "data": {
      "text/plain": [
       "0.6716417910447762"
      ]
     },
     "execution_count": 21,
     "metadata": {},
     "output_type": "execute_result"
    }
   ],
   "source": [
    "# aggregatiing predictions by average\n",
    "bootstrap_pred = np.mean(np.stack(all_predictions), axis = 0) > 0.5\n",
    "bootstrap_pred = bootstrap_pred.astype(int)\n",
    "\n",
    "np.mean(bootstrap_pred == test['Outcome'].to_numpy())"
   ]
  },
  {
   "cell_type": "code",
   "execution_count": 10,
   "metadata": {
    "scrolled": true
   },
   "outputs": [
    {
     "name": "stderr",
     "output_type": "stream",
     "text": [
      "/var/folders/8y/h4057cz1537dtdkx2n6yq6980000gn/T/ipykernel_6899/6433802.py:2: SettingWithCopyWarning: \n",
      "A value is trying to be set on a copy of a slice from a DataFrame.\n",
      "Try using .loc[row_indexer,col_indexer] = value instead\n",
      "\n",
      "See the caveats in the documentation: https://pandas.pydata.org/pandas-docs/stable/user_guide/indexing.html#returning-a-view-versus-a-copy\n",
      "  test[\"soft_y\"] = soft_pred\n"
     ]
    }
   ],
   "source": [
    "soft_pred = np.mean(np.stack(all_predictions), axis = 0)\n",
    "test[\"soft_y\"] = soft_pred"
   ]
  },
  {
   "cell_type": "code",
   "execution_count": 11,
   "metadata": {},
   "outputs": [
    {
     "name": "stdout",
     "output_type": "stream",
     "text": [
      "(4,)\n",
      "(4, 1)\n"
     ]
    }
   ],
   "source": [
    "# numpy extras \n",
    "Y = np.ones(4)\n",
    "print(Y.shape)\n",
    "\n",
    "yprime = np.ones((4,1))\n",
    "print(yprime.shape)"
   ]
  },
  {
   "cell_type": "code",
   "execution_count": 12,
   "metadata": {},
   "outputs": [
    {
     "data": {
      "text/plain": [
       "(4, 1)"
      ]
     },
     "execution_count": 12,
     "metadata": {},
     "output_type": "execute_result"
    }
   ],
   "source": [
    "Y.reshape(-1,1).shape"
   ]
  },
  {
   "cell_type": "code",
   "execution_count": 13,
   "metadata": {},
   "outputs": [
    {
     "data": {
      "text/plain": [
       "array([1., 1., 1., 1.])"
      ]
     },
     "execution_count": 13,
     "metadata": {},
     "output_type": "execute_result"
    }
   ],
   "source": [
    "yprime.ravel()"
   ]
  },
  {
   "cell_type": "code",
   "execution_count": 14,
   "metadata": {},
   "outputs": [],
   "source": [
    "xp = np.array([[]])"
   ]
  },
  {
   "cell_type": "code",
   "execution_count": 16,
   "metadata": {},
   "outputs": [
    {
     "name": "stdout",
     "output_type": "stream",
     "text": [
      "[1 1 1 0 0 0 0 0 0 0 0 0 0 0 0 0 0 0 0 0 0 0 1 0 0 0 0 1 0 0 0 1 0 0 0 0 0\n",
      " 0 0 0 0 0 1 1 0 1 0 1 0 1 0 0 1 0 0 0 0 0 1 0 1 0 0 0 0 0 0]\n"
     ]
    }
   ],
   "source": [
    "# Aggregate your predictions by averaging them\n",
    "bootstrap_pred = np.mean(np.stack(all_predictions),axis=0) > .5\n",
    "bootstrap_pred = bootstrap_pred.astype(int)\n",
    "print(bootstrap_pred)"
   ]
  },
  {
   "cell_type": "code",
   "execution_count": 1,
   "metadata": {},
   "outputs": [],
   "source": [
    "# Evaluate your predictions. How accurate are bootstrap_pred?"
   ]
  },
  {
   "cell_type": "markdown",
   "metadata": {},
   "source": [
    "### Observation\n",
    "\n",
    "Created a scatter plot showing blood pressure by glucose, using color to indicate through a 1-0 label for if the patient has diabetes. Then made a similar scatter plot showing \"soft\" predictions for each data point, based on the mean aggregated prediction. (Note: in ML \"hard\" predictions are categorical, and \"soft\" predictions are continuous and often represent probabilities.) According to the scatterplot below, it appears to me that the higher a patient's blood pressure, the more likely they are to have diabetes. In contrast, the lower the patient's glucose levels, the more likely the patient is to have diabetes. In conclusion, a patient with low glucose levels and high blood pressure has the highest chance of having diabetes."
   ]
  },
  {
   "cell_type": "code",
   "execution_count": 17,
   "metadata": {},
   "outputs": [
    {
     "data": {
      "text/plain": [
       "<AxesSubplot:title={'center':'Glucose x Bloodpressure'}, xlabel='r', ylabel='BloodPressure'>"
      ]
     },
     "execution_count": 17,
     "metadata": {},
     "output_type": "execute_result"
    },
    {
     "data": {
      "image/png": "[encoded data removed]",
      "text/plain": [
       "<Figure size 432x288 with 2 Axes>"
      ]
     },
     "metadata": {
      "needs_background": "light"
     },
     "output_type": "display_data"
    }
   ],
   "source": [
    "test.plot.scatter(x = 'Glucose', y = 'BloodPressure', c = \"soft_y\", \n",
    "                  xlabel = 'r', colormap = 'viridis', title = 'Glucose x Bloodpressure')\n"
   ]
  },
  {
   "cell_type": "code",
   "execution_count": 18,
   "metadata": {},
   "outputs": [
    {
     "data": {
      "text/plain": [
       "<AxesSubplot:title={'center':'Glucose x Bloodpressure'}, xlabel='r', ylabel='BloodPressure'>"
      ]
     },
     "execution_count": 18,
     "metadata": {},
     "output_type": "execute_result"
    },
    {
     "data": {
      "image/png": "[encoded data removed]",
      "text/plain": [
       "<Figure size 432x288 with 2 Axes>"
      ]
     },
     "metadata": {
      "needs_background": "light"
     },
     "output_type": "display_data"
    }
   ],
   "source": [
    "test.plot.scatter(x = 'Glucose', y = 'BloodPressure', c = 'Outcome', \n",
    "                  xlabel = 'r', colormap = 'viridis', title = 'Glucose x Bloodpressure')\n"
   ]
  }
 ],
 "metadata": {
  "kernelspec": {
   "display_name": "Python 3 (ipykernel)",
   "language": "python",
   "name": "python3"
  },
  "language_info": {
   "codemirror_mode": {
    "name": "ipython",
    "version": 3
   },
   "file_extension": ".py",
   "mimetype": "text/x-python",
   "name": "python",
   "nbconvert_exporter": "python",
   "pygments_lexer": "ipython3",
   "version": "3.8.10"
  }
 },
 "nbformat": 4,
 "nbformat_minor": 2
}
